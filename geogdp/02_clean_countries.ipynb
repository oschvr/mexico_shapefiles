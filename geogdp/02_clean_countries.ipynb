{
 "cells": [
  {
   "cell_type": "code",
   "execution_count": 1,
   "metadata": {
    "collapsed": false
   },
   "outputs": [],
   "source": [
    "import geopandas as gpd\n",
    "import pandas as pd\n",
    "import pickle"
   ]
  },
  {
   "cell_type": "markdown",
   "metadata": {},
   "source": [
    "#### Data cleaning steps\n",
    "* Load, clean, and normalize country-level lights data\n",
    "* Load, clean, and normalize World Bank data\n",
    "* Join lights and World Bank dataframes\n",
    "* Pickle joined dataframe"
   ]
  },
  {
   "cell_type": "code",
   "execution_count": 5,
   "metadata": {
    "collapsed": false
   },
   "outputs": [],
   "source": [
    "# load, clean, and normalize country-level lights data\n",
    "with open('data/geo/pickles/zonal_stats_c.pickle') as f:\n",
    "    gdf = pickle.load(f)\n",
    "gdf = pd.DataFrame(gdf)\n",
    "gdf = gdf.drop_duplicates(subset='WB_A3')\n",
    "gdf = gdf.set_index('WB_A3')\n",
    "gdf.drop(['ADMIN', 'CONTINENT', 'ISO_A3', 'REGION_UN', 'REGION_WB', 'SUBREGION', 'geometry'], axis=1, inplace=True)\n",
    "gdf_normalizer = (gdf.F182013).as_matrix()\n",
    "gdf_normed = gdf.divide(gdf_normalizer, axis=0)\n",
    "\n",
    "# Load, clean, and normalize wb data\n",
    "wb = pd.read_csv('data/econ/wb.csv')\n",
    "label = 'GDP, PPP (constant 2011 international $)'\n",
    "wb = wb[wb['Series Name'] == label]\n",
    "wb.drop(['Country Name', 'Series Name', 'Series Code', '2014', '2015'], axis=1, inplace=True)\n",
    "wb.rename(columns={'Country Code': 'WB_A3'}, inplace=True)\n",
    "#wb.dropna(axis=0, inplace=True)\n",
    "wb = wb.set_index('WB_A3')\n",
    "wb_normalizer = (wb['2013']).as_matrix()\n",
    "wb_normed = wb.divide(wb_normalizer, axis=0)\n",
    "\n",
    "# join lights and wb datasets\n",
    "df = gdf_normed.join(wb_normed, how='inner')\n",
    "\n",
    "# pickle joined dataframe\n",
    "df.to_csv('data/geo/zonal_stats_c_norm.csv')\n",
    "df.to_pickle('data/geo/pickles/zonal_stats_c_norm.pickle')\n",
    "wb.to_pickle('data/geo/pickles/wb_data.pickle')"
   ]
  },
  {
   "cell_type": "code",
   "execution_count": 3,
   "metadata": {
    "collapsed": false
   },
   "outputs": [],
   "source": [
    "# syria case: normalize using 2007 gdp data in constant 2005 usd\n",
    "gdf_syria = gdf.loc['SYR'].to_frame().transpose()\n",
    "gdf_syria_normalizer = (gdf_syria.F162007).as_matrix()\n",
    "gdf_syria_normed = gdf_syria.divide(gdf_syria_normalizer, axis=0)\n",
    "\n",
    "wb_syria = pd.read_csv('data/econ/wb.csv')\n",
    "label = 'GDP at market prices (constant 2005 US$)'\n",
    "wb_syria = wb_syria[wb_syria['Series Name'] == label]\n",
    "wb_syria.drop(['Country Name', 'Series Name', 'Series Code', '2014', '2015'], axis=1, inplace=True)\n",
    "wb_syria.rename(columns={'Country Code': 'WB_A3'}, inplace=True)\n",
    "wb_syria = wb_syria.set_index('WB_A3')\n",
    "wb_syria = wb_syria.loc['SYR'].to_frame().transpose(); wb_syria\n",
    "wb_syria_normalizer = (wb_syria['2007']).as_matrix()\n",
    "wb_syria_normed = wb_syria.divide(wb_syria_normalizer, axis=0)\n",
    "\n",
    "# join lights and wb datasets\n",
    "df_syria = gdf_syria_normed.join(wb_syria_normed, how='inner')\n",
    "\n",
    "# pickle joined dataframe\n",
    "df_syria.to_csv('data/geo/zonal_stats_c_norm_syr.csv')\n",
    "df_syria.to_pickle('data/geo/pickles/zonal_stats_c_norm_syr.pickle')\n",
    "wb_syria.to_pickle('data/geo/pickles/wb_data_syr.pickle')"
   ]
  },
  {
   "cell_type": "code",
   "execution_count": 4,
   "metadata": {
    "collapsed": false
   },
   "outputs": [],
   "source": [
    "# angola and south sudan case: normalize using 2013 gdp data in current usd\n",
    "gdf_agossd = gdf.loc[['SSD', 'AGO']]\n",
    "gdf_agossd_normalizer = (gdf_agossd.F182013).as_matrix()\n",
    "gdf_agossd_normed = gdf_agossd.divide(gdf_agossd_normalizer, axis=0)\n",
    "\n",
    "wb_agossd = pd.read_csv('data/econ/wb.csv')\n",
    "label = 'GDP at market prices (current US$)'\n",
    "wb_agossd = wb_agossd[wb_agossd['Series Name'] == label]\n",
    "wb_agossd.drop(['Country Name', 'Series Name', 'Series Code', '2014', '2015'], axis=1, inplace=True)\n",
    "wb_agossd.rename(columns={'Country Code': 'WB_A3'}, inplace=True)\n",
    "wb_agossd = wb_agossd.set_index('WB_A3')\n",
    "wb_agossd = wb_agossd.loc[['SSD', 'AGO']]\n",
    "wb_agossd_normalizer = (wb_agossd['2013']).as_matrix()\n",
    "wb_agossd_normed = wb_agossd.divide(wb_agossd_normalizer, axis=0)\n",
    "\n",
    "# join lights and wb datasets\n",
    "df_agossd = gdf_agossd_normed.join(wb_agossd_normed, how='inner')\n",
    "\n",
    "# pickle joined dataframe\n",
    "df_agossd.to_pickle('data/geo/pickles/zonal_stats_c_norm_agossd.pickle')\n",
    "wb_agossd.to_pickle('data/geo/pickles/wb_data_agossd.pickle')"
   ]
  }
 ],
 "metadata": {
  "kernelspec": {
   "display_name": "Python 2",
   "language": "python",
   "name": "python2"
  },
  "language_info": {
   "codemirror_mode": {
    "name": "ipython",
    "version": 2
   },
   "file_extension": ".py",
   "mimetype": "text/x-python",
   "name": "python",
   "nbconvert_exporter": "python",
   "pygments_lexer": "ipython2",
   "version": "2.7.11"
  }
 },
 "nbformat": 4,
 "nbformat_minor": 0
}
