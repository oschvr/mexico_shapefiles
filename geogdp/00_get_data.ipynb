{
 "cells": [
  {
   "cell_type": "code",
   "execution_count": 2,
   "metadata": {
    "collapsed": false
   },
   "outputs": [],
   "source": [
    "import os\n",
    "import urllib\n",
    "from urllib2 import urlopen, URLError, HTTPError\n",
    "import zipfile\n",
    "from bs4 import BeautifulSoup\n",
    "import re\n",
    "\n",
    "import pycurl\n",
    "import re\n",
    "import urllib2\n",
    "\n",
    "import fiona\n",
    "import geopandas as gpd\n",
    "import glob\n",
    "from rasterstats import zonal_stats\n",
    "import pandas as pd\n",
    "import pickle\n",
    "\n",
    "from library.geoprocess import get_tif_ids, zonal_to_shp\n",
    "from library.utilities import mkdir, dlfile, unzip_file"
   ]
  },
  {
   "cell_type": "code",
   "execution_count": 3,
   "metadata": {
    "collapsed": false
   },
   "outputs": [],
   "source": [
    "# make data, shp, and countries directories if they don't already exist\n",
    "mkdir('data/shp/countries')"
   ]
  },
  {
   "cell_type": "code",
   "execution_count": 40,
   "metadata": {
    "collapsed": false
   },
   "outputs": [
    {
     "name": "stdout",
     "output_type": "stream",
     "text": [
      "downloading http://biogeo.ucdavis.edu/data/world/countries_shp.zip\n",
      "data/shp/countries/countries_shp.zip\n",
      "countries_shp.zip\n"
     ]
    }
   ],
   "source": [
    "# get country shapefiles zipfile\n",
    "url = 'http://biogeo.ucdavis.edu/data/world/countries_shp.zip'\n",
    "dlfile(url, 'data/shp/countries', 'countries_shp.zip')"
   ]
  },
  {
   "cell_type": "code",
   "execution_count": 5,
   "metadata": {
    "collapsed": true
   },
   "outputs": [],
   "source": [
    "# unzip shapefiles\n",
    "unzip_file('data/shp/countries/countries_shp.zip', 'data/shp/countries')"
   ]
  },
  {
   "cell_type": "code",
   "execution_count": 6,
   "metadata": {
    "collapsed": false
   },
   "outputs": [
    {
     "data": {
      "text/html": [
       "<div>\n",
       "<table border=\"1\" class=\"dataframe\">\n",
       "  <thead>\n",
       "    <tr style=\"text-align: right;\">\n",
       "      <th></th>\n",
       "      <th>CONTINENT</th>\n",
       "      <th>COUNTRY</th>\n",
       "      <th>ENGLISH</th>\n",
       "      <th>EU</th>\n",
       "      <th>FAO</th>\n",
       "      <th>FIPS</th>\n",
       "      <th>FRENCH</th>\n",
       "      <th>ISO2</th>\n",
       "      <th>ISO3</th>\n",
       "      <th>LOCAL</th>\n",
       "      <th>NAME</th>\n",
       "      <th>OBJECTID</th>\n",
       "      <th>SOVEREIGN</th>\n",
       "      <th>SPANISH</th>\n",
       "      <th>SQKM</th>\n",
       "      <th>UNREG1</th>\n",
       "      <th>UNREG2</th>\n",
       "      <th>WAS_ISO</th>\n",
       "      <th>geometry</th>\n",
       "    </tr>\n",
       "  </thead>\n",
       "  <tbody>\n",
       "    <tr>\n",
       "      <th>0</th>\n",
       "      <td>Europe</td>\n",
       "      <td>Åland</td>\n",
       "      <td>Åland</td>\n",
       "      <td>0</td>\n",
       "      <td>None</td>\n",
       "      <td>AX</td>\n",
       "      <td>None</td>\n",
       "      <td>AX</td>\n",
       "      <td>ALA</td>\n",
       "      <td>Åland</td>\n",
       "      <td>Åland</td>\n",
       "      <td>1</td>\n",
       "      <td>Finland</td>\n",
       "      <td>None</td>\n",
       "      <td>1243.719143</td>\n",
       "      <td>Northern Europe</td>\n",
       "      <td>Europe</td>\n",
       "      <td>None</td>\n",
       "      <td>(POLYGON ((20.99566650547376 60.64227676165353...</td>\n",
       "    </tr>\n",
       "    <tr>\n",
       "      <th>1</th>\n",
       "      <td>Asia</td>\n",
       "      <td>Afghanistan</td>\n",
       "      <td>Afghanistan</td>\n",
       "      <td>0</td>\n",
       "      <td>Afghanistan</td>\n",
       "      <td>AF</td>\n",
       "      <td>Afghanistan</td>\n",
       "      <td>AF</td>\n",
       "      <td>AFG</td>\n",
       "      <td>Afghanestan</td>\n",
       "      <td>Afghanistan</td>\n",
       "      <td>2</td>\n",
       "      <td>Afghanistan</td>\n",
       "      <td>Afganistán</td>\n",
       "      <td>641383.422787</td>\n",
       "      <td>Southern Asia</td>\n",
       "      <td>Asia</td>\n",
       "      <td>None</td>\n",
       "      <td>POLYGON ((73.2733612030425 36.88855743734217, ...</td>\n",
       "    </tr>\n",
       "    <tr>\n",
       "      <th>2</th>\n",
       "      <td>Europe</td>\n",
       "      <td>Albania</td>\n",
       "      <td>Albania</td>\n",
       "      <td>0</td>\n",
       "      <td>Albania</td>\n",
       "      <td>AL</td>\n",
       "      <td>Albanie</td>\n",
       "      <td>AL</td>\n",
       "      <td>ALB</td>\n",
       "      <td>Shqiperia</td>\n",
       "      <td>Albania</td>\n",
       "      <td>3</td>\n",
       "      <td>Albania</td>\n",
       "      <td>Albania</td>\n",
       "      <td>28486.109599</td>\n",
       "      <td>Southern Europe</td>\n",
       "      <td>Europe</td>\n",
       "      <td>None</td>\n",
       "      <td>(POLYGON ((20.98056793146918 40.85522079417342...</td>\n",
       "    </tr>\n",
       "  </tbody>\n",
       "</table>\n",
       "</div>"
      ],
      "text/plain": [
       "  CONTINENT      COUNTRY      ENGLISH  EU          FAO FIPS       FRENCH ISO2  \\\n",
       "0    Europe        Åland        Åland   0         None   AX         None   AX   \n",
       "1      Asia  Afghanistan  Afghanistan   0  Afghanistan   AF  Afghanistan   AF   \n",
       "2    Europe      Albania      Albania   0      Albania   AL      Albanie   AL   \n",
       "\n",
       "  ISO3        LOCAL         NAME  OBJECTID    SOVEREIGN     SPANISH  \\\n",
       "0  ALA        Åland        Åland         1      Finland        None   \n",
       "1  AFG  Afghanestan  Afghanistan         2  Afghanistan  Afganistán   \n",
       "2  ALB    Shqiperia      Albania         3      Albania     Albania   \n",
       "\n",
       "            SQKM           UNREG1  UNREG2 WAS_ISO  \\\n",
       "0    1243.719143  Northern Europe  Europe    None   \n",
       "1  641383.422787    Southern Asia    Asia    None   \n",
       "2   28486.109599  Southern Europe  Europe    None   \n",
       "\n",
       "                                            geometry  \n",
       "0  (POLYGON ((20.99566650547376 60.64227676165353...  \n",
       "1  POLYGON ((73.2733612030425 36.88855743734217, ...  \n",
       "2  (POLYGON ((20.98056793146918 40.85522079417342...  "
      ]
     },
     "execution_count": 6,
     "metadata": {},
     "output_type": "execute_result"
    }
   ],
   "source": [
    "# read in countries shapefile\n",
    "shp = 'data/shp/countries/countries.shp'\n",
    "gdf = gpd.GeoDataFrame.from_file(shp); gdf.head(3)"
   ]
  },
  {
   "cell_type": "code",
   "execution_count": 44,
   "metadata": {
    "collapsed": false,
    "scrolled": true
   },
   "outputs": [
    {
     "name": "stdout",
     "output_type": "stream",
     "text": [
      "downloading http://ngdc.noaa.gov/eog/data/web_data/v4composites/F101992.v4.tar\n",
      "data/img/F101992.v4.tar\n",
      "F101992.v4.tar\n",
      "downloading http://ngdc.noaa.gov/eog/data/web_data/v4composites/F101993.v4.tar\n",
      "data/img/F101993.v4.tar\n",
      "F101993.v4.tar\n",
      "downloading http://ngdc.noaa.gov/eog/data/web_data/v4composites/F101994.v4.tar\n",
      "data/img/F101994.v4.tar\n",
      "F101994.v4.tar\n",
      "downloading http://ngdc.noaa.gov/eog/data/web_data/v4composites/F121994.v4.tar\n",
      "data/img/F121994.v4.tar\n",
      "F121994.v4.tar\n",
      "downloading http://ngdc.noaa.gov/eog/data/web_data/v4composites/F121995.v4.tar\n",
      "data/img/F121995.v4.tar\n",
      "F121995.v4.tar\n",
      "downloading http://ngdc.noaa.gov/eog/data/web_data/v4composites/F121996.v4.tar\n",
      "data/img/F121996.v4.tar\n",
      "F121996.v4.tar\n",
      "downloading http://ngdc.noaa.gov/eog/data/web_data/v4composites/F121997.v4.tar\n",
      "data/img/F121997.v4.tar\n",
      "F121997.v4.tar\n",
      "downloading http://ngdc.noaa.gov/eog/data/web_data/v4composites/F141997.v4.tar\n",
      "data/img/F141997.v4.tar\n",
      "F141997.v4.tar\n",
      "downloading http://ngdc.noaa.gov/eog/data/web_data/v4composites/F121998.v4.tar\n",
      "data/img/F121998.v4.tar\n",
      "F121998.v4.tar\n",
      "downloading http://ngdc.noaa.gov/eog/data/web_data/v4composites/F141998.v4.tar\n",
      "data/img/F141998.v4.tar\n",
      "F141998.v4.tar\n",
      "downloading http://ngdc.noaa.gov/eog/data/web_data/v4composites/F121999.v4.tar\n",
      "data/img/F121999.v4.tar\n",
      "F121999.v4.tar\n",
      "downloading http://ngdc.noaa.gov/eog/data/web_data/v4composites/F141999.v4.tar\n"
     ]
    },
    {
     "ename": "KeyboardInterrupt",
     "evalue": "",
     "output_type": "error",
     "traceback": [
      "\u001b[0;31m---------------------------------------------------------------------------\u001b[0m",
      "\u001b[0;31mKeyboardInterrupt\u001b[0m                         Traceback (most recent call last)",
      "\u001b[0;32m<ipython-input-44-26df29add7f0>\u001b[0m in \u001b[0;36m<module>\u001b[0;34m()\u001b[0m\n\u001b[1;32m     40\u001b[0m \u001b[0;31m# get raster tarballs; this will take awhile\u001b[0m\u001b[0;34m\u001b[0m\u001b[0;34m\u001b[0m\u001b[0m\n\u001b[1;32m     41\u001b[0m \u001b[0;32mfor\u001b[0m \u001b[0mtu\u001b[0m \u001b[0;32min\u001b[0m \u001b[0mlinks_filenames\u001b[0m\u001b[0;34m:\u001b[0m\u001b[0;34m\u001b[0m\u001b[0m\n\u001b[0;32m---> 42\u001b[0;31m     \u001b[0mdlfile\u001b[0m\u001b[0;34m(\u001b[0m\u001b[0mtu\u001b[0m\u001b[0;34m[\u001b[0m\u001b[0;36m0\u001b[0m\u001b[0;34m]\u001b[0m\u001b[0;34m,\u001b[0m \u001b[0;34m'data/img'\u001b[0m\u001b[0;34m,\u001b[0m \u001b[0mtu\u001b[0m\u001b[0;34m[\u001b[0m\u001b[0;36m1\u001b[0m\u001b[0;34m]\u001b[0m\u001b[0;34m)\u001b[0m\u001b[0;34m\u001b[0m\u001b[0m\n\u001b[0m",
      "\u001b[0;32m/Users/peter/Dropbox/ds/gh/geo_gdp/library/utilities.pyc\u001b[0m in \u001b[0;36mdlfile\u001b[0;34m(url, data_dir, filename)\u001b[0m\n\u001b[1;32m     17\u001b[0m         \u001b[0;31m# Open our local file for writing\u001b[0m\u001b[0;34m\u001b[0m\u001b[0;34m\u001b[0m\u001b[0m\n\u001b[1;32m     18\u001b[0m         \u001b[0;32mwith\u001b[0m \u001b[0mopen\u001b[0m\u001b[0;34m(\u001b[0m\u001b[0mfile_path\u001b[0m\u001b[0;34m,\u001b[0m \u001b[0;34m\"wb\"\u001b[0m\u001b[0;34m)\u001b[0m \u001b[0;32mas\u001b[0m \u001b[0mlocal_file\u001b[0m\u001b[0;34m:\u001b[0m\u001b[0;34m\u001b[0m\u001b[0m\n\u001b[0;32m---> 19\u001b[0;31m             \u001b[0mlocal_file\u001b[0m\u001b[0;34m.\u001b[0m\u001b[0mwrite\u001b[0m\u001b[0;34m(\u001b[0m\u001b[0mf\u001b[0m\u001b[0;34m.\u001b[0m\u001b[0mread\u001b[0m\u001b[0;34m(\u001b[0m\u001b[0;34m)\u001b[0m\u001b[0;34m)\u001b[0m\u001b[0;34m\u001b[0m\u001b[0m\n\u001b[0m\u001b[1;32m     20\u001b[0m         \u001b[0;32mprint\u001b[0m \u001b[0mfile_path\u001b[0m\u001b[0;34m\u001b[0m\u001b[0m\n\u001b[1;32m     21\u001b[0m         \u001b[0;32mprint\u001b[0m \u001b[0mos\u001b[0m\u001b[0;34m.\u001b[0m\u001b[0mpath\u001b[0m\u001b[0;34m.\u001b[0m\u001b[0mbasename\u001b[0m\u001b[0;34m(\u001b[0m\u001b[0mfile_path\u001b[0m\u001b[0;34m)\u001b[0m\u001b[0;34m\u001b[0m\u001b[0m\n",
      "\u001b[0;32m/Users/peter/anaconda/lib/python2.7/socket.pyc\u001b[0m in \u001b[0;36mread\u001b[0;34m(self, size)\u001b[0m\n\u001b[1;32m    353\u001b[0m             \u001b[0;32mwhile\u001b[0m \u001b[0mTrue\u001b[0m\u001b[0;34m:\u001b[0m\u001b[0;34m\u001b[0m\u001b[0m\n\u001b[1;32m    354\u001b[0m                 \u001b[0;32mtry\u001b[0m\u001b[0;34m:\u001b[0m\u001b[0;34m\u001b[0m\u001b[0m\n\u001b[0;32m--> 355\u001b[0;31m                     \u001b[0mdata\u001b[0m \u001b[0;34m=\u001b[0m \u001b[0mself\u001b[0m\u001b[0;34m.\u001b[0m\u001b[0m_sock\u001b[0m\u001b[0;34m.\u001b[0m\u001b[0mrecv\u001b[0m\u001b[0;34m(\u001b[0m\u001b[0mrbufsize\u001b[0m\u001b[0;34m)\u001b[0m\u001b[0;34m\u001b[0m\u001b[0m\n\u001b[0m\u001b[1;32m    356\u001b[0m                 \u001b[0;32mexcept\u001b[0m \u001b[0merror\u001b[0m\u001b[0;34m,\u001b[0m \u001b[0me\u001b[0m\u001b[0;34m:\u001b[0m\u001b[0;34m\u001b[0m\u001b[0m\n\u001b[1;32m    357\u001b[0m                     \u001b[0;32mif\u001b[0m \u001b[0me\u001b[0m\u001b[0;34m.\u001b[0m\u001b[0margs\u001b[0m\u001b[0;34m[\u001b[0m\u001b[0;36m0\u001b[0m\u001b[0;34m]\u001b[0m \u001b[0;34m==\u001b[0m \u001b[0mEINTR\u001b[0m\u001b[0;34m:\u001b[0m\u001b[0;34m\u001b[0m\u001b[0m\n",
      "\u001b[0;32m/Users/peter/anaconda/lib/python2.7/httplib.pyc\u001b[0m in \u001b[0;36mread\u001b[0;34m(self, amt)\u001b[0m\n\u001b[1;32m    610\u001b[0m         \u001b[0;31m# connection, and the user is reading more bytes than will be provided\u001b[0m\u001b[0;34m\u001b[0m\u001b[0;34m\u001b[0m\u001b[0m\n\u001b[1;32m    611\u001b[0m         \u001b[0;31m# (for example, reading in 1k chunks)\u001b[0m\u001b[0;34m\u001b[0m\u001b[0;34m\u001b[0m\u001b[0m\n\u001b[0;32m--> 612\u001b[0;31m         \u001b[0ms\u001b[0m \u001b[0;34m=\u001b[0m \u001b[0mself\u001b[0m\u001b[0;34m.\u001b[0m\u001b[0mfp\u001b[0m\u001b[0;34m.\u001b[0m\u001b[0mread\u001b[0m\u001b[0;34m(\u001b[0m\u001b[0mamt\u001b[0m\u001b[0;34m)\u001b[0m\u001b[0;34m\u001b[0m\u001b[0m\n\u001b[0m\u001b[1;32m    613\u001b[0m         \u001b[0;32mif\u001b[0m \u001b[0;32mnot\u001b[0m \u001b[0ms\u001b[0m \u001b[0;32mand\u001b[0m \u001b[0mamt\u001b[0m\u001b[0;34m:\u001b[0m\u001b[0;34m\u001b[0m\u001b[0m\n\u001b[1;32m    614\u001b[0m             \u001b[0;31m# Ideally, we would raise IncompleteRead if the content-length\u001b[0m\u001b[0;34m\u001b[0m\u001b[0;34m\u001b[0m\u001b[0m\n",
      "\u001b[0;32m/Users/peter/anaconda/lib/python2.7/socket.pyc\u001b[0m in \u001b[0;36mread\u001b[0;34m(self, size)\u001b[0m\n\u001b[1;32m    382\u001b[0m                 \u001b[0;31m# fragmentation issues on many platforms.\u001b[0m\u001b[0;34m\u001b[0m\u001b[0;34m\u001b[0m\u001b[0m\n\u001b[1;32m    383\u001b[0m                 \u001b[0;32mtry\u001b[0m\u001b[0;34m:\u001b[0m\u001b[0;34m\u001b[0m\u001b[0m\n\u001b[0;32m--> 384\u001b[0;31m                     \u001b[0mdata\u001b[0m \u001b[0;34m=\u001b[0m \u001b[0mself\u001b[0m\u001b[0;34m.\u001b[0m\u001b[0m_sock\u001b[0m\u001b[0;34m.\u001b[0m\u001b[0mrecv\u001b[0m\u001b[0;34m(\u001b[0m\u001b[0mleft\u001b[0m\u001b[0;34m)\u001b[0m\u001b[0;34m\u001b[0m\u001b[0m\n\u001b[0m\u001b[1;32m    385\u001b[0m                 \u001b[0;32mexcept\u001b[0m \u001b[0merror\u001b[0m\u001b[0;34m,\u001b[0m \u001b[0me\u001b[0m\u001b[0;34m:\u001b[0m\u001b[0;34m\u001b[0m\u001b[0m\n\u001b[1;32m    386\u001b[0m                     \u001b[0;32mif\u001b[0m \u001b[0me\u001b[0m\u001b[0;34m.\u001b[0m\u001b[0margs\u001b[0m\u001b[0;34m[\u001b[0m\u001b[0;36m0\u001b[0m\u001b[0;34m]\u001b[0m \u001b[0;34m==\u001b[0m \u001b[0mEINTR\u001b[0m\u001b[0;34m:\u001b[0m\u001b[0;34m\u001b[0m\u001b[0m\n",
      "\u001b[0;31mKeyboardInterrupt\u001b[0m: "
     ]
    }
   ],
   "source": [
    "# download lights data\n",
    "# see http://ngdc.noaa.gov/eog/dmsp/downloadV4composites.html for webpage that lists links\n",
    "\n",
    "# make img directory\n",
    "mkdir('data/img')\n",
    "\n",
    "# build links list\n",
    "webpage_url = 'http://ngdc.noaa.gov'\n",
    "base_url = 'http://ngdc.noaa.gov/eog/dmsp/downloadV4composites.html'\n",
    "soup = BeautifulSoup(urlopen(base_url), 'lxml')\n",
    "\n",
    "links_list = []\n",
    "for i in soup.find_all('a'):\n",
    "    link = i.get('href')\n",
    "    links_list.append(link)\n",
    "\n",
    "links_list = filter(None, links_list)\n",
    "links_list = [x for x in links_list if '.tar' in x]\n",
    "links_list = [x for x in links_list if '_x_pct' not in x]\n",
    "\n",
    "links_list_cleaned = []\n",
    "for i in links_list:\n",
    "    replacement = i.replace('\\n', '')\n",
    "    links_list_cleaned.append(replacement)\n",
    "\n",
    "links_list_complete = []\n",
    "for i in links_list_cleaned:\n",
    "    link = webpage_url + i\n",
    "    links_list_complete.append(link)\n",
    "\n",
    "# make list of filenames\n",
    "filenames = []\n",
    "for link in links_list_cleaned:\n",
    "    a_file = link.split('/eog/data/web_data/v4composites/', 1)[1]\n",
    "    filenames.append(a_file)\n",
    "\n",
    "# zip links and filenames lists together\n",
    "links_filenames = zip(links_list_complete, filenames)\n",
    "\n",
    "# get raster tarballs; this will take awhile\n",
    "for tu in links_filenames:\n",
    "    dlfile(tu[0], 'data/img', tu[1])"
   ]
  },
  {
   "cell_type": "code",
   "execution_count": null,
   "metadata": {
    "collapsed": true
   },
   "outputs": [],
   "source": []
  }
 ],
 "metadata": {
  "kernelspec": {
   "display_name": "Python 2",
   "language": "python",
   "name": "python2"
  },
  "language_info": {
   "codemirror_mode": {
    "name": "ipython",
    "version": 2
   },
   "file_extension": ".py",
   "mimetype": "text/x-python",
   "name": "python",
   "nbconvert_exporter": "python",
   "pygments_lexer": "ipython2",
   "version": "2.7.11"
  }
 },
 "nbformat": 4,
 "nbformat_minor": 0
}
